{
 "cells": [
  {
   "cell_type": "code",
   "execution_count": null,
   "id": "df3482ef-7190-4413-b940-e07cc809374f",
   "metadata": {},
   "outputs": [],
   "source": [
    "import torch\n",
    "import numpy as np"
   ]
  },
  {
   "cell_type": "code",
   "execution_count": null,
   "id": "20662be2-10db-44db-8a66-24cf06638dfa",
   "metadata": {},
   "outputs": [
    {
     "data": {
      "text/plain": [
       "tensor([[1, 2],\n",
       "        [3, 4]])"
      ]
     },
     "execution_count": 2,
     "metadata": {},
     "output_type": "execute_result"
    }
   ],
   "source": [
    "data = [[1, 2], [3, 4]]\n",
    "torch.tensor(data) #Creating tensor"
   ]
  },
  {
   "cell_type": "code",
   "execution_count": null,
   "id": "2b223b53-8405-4e53-b9f7-0cb93e2baf33",
   "metadata": {},
   "outputs": [
    {
     "data": {
      "text/plain": [
       "tensor([[1, 2],\n",
       "        [3, 4]])"
      ]
     },
     "execution_count": 3,
     "metadata": {},
     "output_type": "execute_result"
    }
   ],
   "source": [
    "np_array = np.array(data)\n",
    "x_np = torch.from_numpy(np_array) #Creating tensor from numpy array\n",
    "x_np"
   ]
  },
  {
   "cell_type": "code",
   "execution_count": null,
   "id": "8cbb0b6e-f18f-44c0-9205-76dbd1ed34c3",
   "metadata": {},
   "outputs": [
    {
     "data": {
      "text/plain": [
       "tensor([[1, 1],\n",
       "        [1, 1]])"
      ]
     },
     "execution_count": 4,
     "metadata": {},
     "output_type": "execute_result"
    }
   ],
   "source": [
    "x_ones = torch.ones_like(x_np) # Creating similar tensors\n",
    "x_ones"
   ]
  },
  {
   "cell_type": "code",
   "execution_count": null,
   "id": "95afe6c9-a0fe-4772-bfc9-a8c937c8d33c",
   "metadata": {},
   "outputs": [
    {
     "data": {
      "text/plain": [
       "tensor([[0.5084, 0.8146],\n",
       "        [0.6544, 0.8614]])"
      ]
     },
     "execution_count": 5,
     "metadata": {},
     "output_type": "execute_result"
    }
   ],
   "source": [
    "x_rand = torch.rand_like(x_np, dtype=torch.float) # Overrides datatype of x_data, [0,1]\n",
    "x_rand"
   ]
  },
  {
   "cell_type": "code",
   "execution_count": null,
   "id": "ff32b66b-9f53-4ab3-a837-7c4c9d625d47",
   "metadata": {},
   "outputs": [
    {
     "data": {
      "text/plain": [
       "tensor([[0.4290, 0.8476, 0.7695],\n",
       "        [0.5253, 0.7012, 0.1514]])"
      ]
     },
     "execution_count": 6,
     "metadata": {},
     "output_type": "execute_result"
    }
   ],
   "source": [
    "shape = (2, 3,) # a tuple of dimensions\n",
    "rand_tensor = torch.rand(shape)\n",
    "rand_tensor"
   ]
  },
  {
   "cell_type": "code",
   "execution_count": null,
   "id": "ea0b77e8-43c1-43df-93e0-7c31cf48f9c0",
   "metadata": {},
   "outputs": [
    {
     "data": {
      "text/plain": [
       "torch.Size([3, 4])"
      ]
     },
     "execution_count": 7,
     "metadata": {},
     "output_type": "execute_result"
    }
   ],
   "source": [
    "tns = torch.rand(3, 4)\n",
    "tns.shape"
   ]
  },
  {
   "cell_type": "code",
   "execution_count": null,
   "id": "a7fd6ffd-c1e7-4827-9889-fc8e8d14be97",
   "metadata": {},
   "outputs": [
    {
     "data": {
      "text/plain": [
       "torch.float32"
      ]
     },
     "execution_count": 8,
     "metadata": {},
     "output_type": "execute_result"
    }
   ],
   "source": [
    "tns.dtype"
   ]
  },
  {
   "cell_type": "code",
   "execution_count": null,
   "id": "182057b4-250a-4664-b503-13ffc5b3f906",
   "metadata": {},
   "outputs": [
    {
     "data": {
      "text/plain": [
       "device(type='cpu')"
      ]
     },
     "execution_count": 9,
     "metadata": {},
     "output_type": "execute_result"
    }
   ],
   "source": [
    "tns.device"
   ]
  },
  {
   "cell_type": "code",
   "execution_count": null,
   "id": "111ede14-00a4-4997-bc94-1a28fc5b03c5",
   "metadata": {},
   "outputs": [
    {
     "data": {
      "text/plain": [
       "tensor([[0.8596, 0.3055, 0.3644, 0.1697],\n",
       "        [0.4827, 0.6311, 0.7365, 0.7154],\n",
       "        [0.0461, 0.7705, 0.3015, 0.6800]], device='mps:0')"
      ]
     },
     "execution_count": 10,
     "metadata": {},
     "output_type": "execute_result"
    }
   ],
   "source": [
    "tns.to(\"mps\")"
   ]
  },
  {
   "cell_type": "code",
   "execution_count": null,
   "id": "8e6f9973-9dc1-4a8f-ba43-e7a635b2fa8f",
   "metadata": {},
   "outputs": [],
   "source": [
    "device = torch.accelerator.current_accelerator().type if torch.accelerator.is_available() else \"cpu\""
   ]
  },
  {
   "cell_type": "code",
   "execution_count": null,
   "id": "18c68678-a0f8-4895-8f80-c42d35bbe332",
   "metadata": {},
   "outputs": [
    {
     "data": {
      "text/plain": [
       "device(type='mps', index=0)"
      ]
     },
     "execution_count": 12,
     "metadata": {},
     "output_type": "execute_result"
    }
   ],
   "source": [
    "tns.to(device)\n",
    "tns = tns.to(device)\n",
    "tns.device"
   ]
  },
  {
   "cell_type": "code",
   "execution_count": null,
   "id": "4e165103-ae94-4bc0-b374-297f60430bd7",
   "metadata": {},
   "outputs": [
    {
     "data": {
      "text/plain": [
       "tensor([[0.3030, 0.9305, 0.3124, 0.0954],\n",
       "        [0.0659, 0.4072, 0.7490, 0.8800],\n",
       "        [0.8662, 0.5132, 0.1904, 0.8714],\n",
       "        [0.2349, 0.8887, 0.7812, 0.0694]])"
      ]
     },
     "execution_count": 13,
     "metadata": {},
     "output_type": "execute_result"
    }
   ],
   "source": [
    "tns2 = torch.rand(4,4)\n",
    "tns2"
   ]
  },
  {
   "cell_type": "code",
   "execution_count": null,
   "id": "67257cfa-e7ea-4201-baa0-268cb22011ca",
   "metadata": {},
   "outputs": [
    {
     "data": {
      "text/plain": [
       "tensor([0.3030, 0.0659, 0.8662, 0.2349])"
      ]
     },
     "execution_count": 14,
     "metadata": {},
     "output_type": "execute_result"
    }
   ],
   "source": [
    "tns2[:, 0] # First column"
   ]
  },
  {
   "cell_type": "code",
   "execution_count": null,
   "id": "b8860a53-7e56-4ad6-97db-bbdb309d7e2f",
   "metadata": {},
   "outputs": [
    {
     "data": {
      "text/plain": [
       "tensor([0.3030, 0.9305, 0.3124, 0.0954])"
      ]
     },
     "execution_count": 15,
     "metadata": {},
     "output_type": "execute_result"
    }
   ],
   "source": [
    "tns2[0] # First row "
   ]
  },
  {
   "cell_type": "code",
   "execution_count": null,
   "id": "837a9119-be13-49f8-88da-36882564d6bc",
   "metadata": {},
   "outputs": [
    {
     "data": {
      "text/plain": [
       "'\\n... means “expand to however many : slices are needed to cover all the remaining dimensions.”\\nx = torch.arange(2*3*4).reshape(2, 3, 4)\\nx[..., -1] → shape [2, 3]\\nIt selects the last element in the last dimension (size 4 → index -1).\\nEquivalent to x[:, :, -1].\\n'"
      ]
     },
     "execution_count": 16,
     "metadata": {},
     "output_type": "execute_result"
    }
   ],
   "source": [
    "tns2[..., -1] # Last column\n",
    "'''\n",
    "... means “expand to however many : slices are needed to cover all the remaining dimensions.”\n",
    "x = torch.arange(2*3*4).reshape(2, 3, 4)\n",
    "x[..., -1] → shape [2, 3]\n",
    "It selects the last element in the last dimension (size 4 → index -1).\n",
    "Equivalent to x[:, :, -1].\n",
    "'''"
   ]
  },
  {
   "cell_type": "code",
   "execution_count": null,
   "id": "883afd73-80d3-45a5-8e0a-b6de715425d0",
   "metadata": {},
   "outputs": [
    {
     "data": {
      "text/plain": [
       "torch.Size([2, 3])"
      ]
     },
     "execution_count": 17,
     "metadata": {},
     "output_type": "execute_result"
    }
   ],
   "source": [
    "x = torch.arange(2*3*4).reshape(2, 3, 4)\n",
    "x[:,:,-1].shape"
   ]
  },
  {
   "cell_type": "code",
   "execution_count": null,
   "id": "7f6b400b-94dd-4b72-a824-6b53778cdbbf",
   "metadata": {},
   "outputs": [
    {
     "data": {
      "text/plain": [
       "tensor([[ 8,  9, 10, 11],\n",
       "        [20, 21, 22, 23]])"
      ]
     },
     "execution_count": 18,
     "metadata": {},
     "output_type": "execute_result"
    }
   ],
   "source": [
    "x[:, -1]"
   ]
  },
  {
   "cell_type": "code",
   "execution_count": null,
   "id": "946ca964-efe6-47fc-99dd-536255f2b38c",
   "metadata": {},
   "outputs": [
    {
     "data": {
      "text/plain": [
       "tensor([[ 3,  7, 11],\n",
       "        [15, 19, 23]])"
      ]
     },
     "execution_count": 19,
     "metadata": {},
     "output_type": "execute_result"
    }
   ],
   "source": [
    "x[..., -1]"
   ]
  },
  {
   "cell_type": "code",
   "execution_count": null,
   "id": "63e60eae-18ab-455d-b8da-1260de04afc3",
   "metadata": {},
   "outputs": [
    {
     "data": {
      "text/plain": [
       "torch.Size([3, 8])"
      ]
     },
     "execution_count": 20,
     "metadata": {},
     "output_type": "execute_result"
    }
   ],
   "source": [
    "tns3 = torch.cat([tns, tns], dim=1) # Join horizontally\n",
    "tns3.shape"
   ]
  },
  {
   "cell_type": "code",
   "execution_count": null,
   "id": "8202709d-9377-4e63-9144-972658946514",
   "metadata": {},
   "outputs": [
    {
     "data": {
      "text/plain": [
       "torch.Size([9, 4])"
      ]
     },
     "execution_count": 21,
     "metadata": {},
     "output_type": "execute_result"
    }
   ],
   "source": [
    "tns4 = torch.cat([tns, tns, tns], dim=0) # Join vertically\n",
    "tns4.shape"
   ]
  },
  {
   "cell_type": "code",
   "execution_count": null,
   "id": "83e4bbf3-e347-4339-9fac-98e2fde99e18",
   "metadata": {},
   "outputs": [
    {
     "data": {
      "text/plain": [
       "tensor([[0.9938, 0.9976, 0.5003],\n",
       "        [0.9976, 1.6856, 1.2171],\n",
       "        [0.5003, 1.2171, 1.1491]], device='mps:0')"
      ]
     },
     "execution_count": 22,
     "metadata": {},
     "output_type": "execute_result"
    }
   ],
   "source": [
    "y = tns @ tns.T\n",
    "y"
   ]
  },
  {
   "cell_type": "code",
   "execution_count": null,
   "id": "b32d8d81-579e-4e14-a843-a95497214222",
   "metadata": {},
   "outputs": [
    {
     "data": {
      "text/plain": [
       "tensor([[0.9938, 0.9976, 0.5003],\n",
       "        [0.9976, 1.6856, 1.2171],\n",
       "        [0.5003, 1.2171, 1.1491]], device='mps:0')"
      ]
     },
     "execution_count": 23,
     "metadata": {},
     "output_type": "execute_result"
    }
   ],
   "source": [
    "y2 = tns.matmul(tns.T)\n",
    "y2"
   ]
  },
  {
   "cell_type": "code",
   "execution_count": null,
   "id": "f8f34792-d06d-4141-99f0-0b4b6e2af57d",
   "metadata": {},
   "outputs": [
    {
     "data": {
      "text/plain": [
       "tensor(6.0631, device='mps:0')"
      ]
     },
     "execution_count": 24,
     "metadata": {},
     "output_type": "execute_result"
    }
   ],
   "source": [
    "tns.sum()"
   ]
  },
  {
   "cell_type": "code",
   "execution_count": null,
   "id": "b4d43550-a27e-4820-b658-680cb757ab11",
   "metadata": {},
   "outputs": [
    {
     "data": {
      "text/plain": [
       "tensor([[0.8596, 0.3055, 0.3644, 0.1697],\n",
       "        [0.4827, 0.6311, 0.7365, 0.7154],\n",
       "        [0.0461, 0.7705, 0.3015, 0.6800]], device='mps:0')"
      ]
     },
     "execution_count": 25,
     "metadata": {},
     "output_type": "execute_result"
    }
   ],
   "source": [
    "tns"
   ]
  },
  {
   "cell_type": "code",
   "execution_count": null,
   "id": "7b868e58-e11c-413a-9589-9c541d2e3229",
   "metadata": {},
   "outputs": [
    {
     "data": {
      "text/plain": [
       "tensor([[5.8596, 5.3055, 5.3644, 5.1697],\n",
       "        [5.4827, 5.6311, 5.7365, 5.7154],\n",
       "        [5.0461, 5.7705, 5.3015, 5.6800]], device='mps:0')"
      ]
     },
     "execution_count": 26,
     "metadata": {},
     "output_type": "execute_result"
    }
   ],
   "source": [
    "tns.add_(5)"
   ]
  },
  {
   "cell_type": "code",
   "execution_count": null,
   "id": "c581788d-fbee-481c-b77d-75e2f804c617",
   "metadata": {},
   "outputs": [
    {
     "data": {
      "text/plain": [
       "tensor([[5.8596, 5.3055, 5.3644, 5.1697],\n",
       "        [5.4827, 5.6311, 5.7365, 5.7154],\n",
       "        [5.0461, 5.7705, 5.3015, 5.6800]], device='mps:0')"
      ]
     },
     "execution_count": 27,
     "metadata": {},
     "output_type": "execute_result"
    }
   ],
   "source": [
    "tns"
   ]
  },
  {
   "cell_type": "code",
   "execution_count": null,
   "id": "76493e3f-e624-4ea2-b015-d40ade56c14a",
   "metadata": {},
   "outputs": [
    {
     "data": {
      "text/plain": [
       "tensor([[10.8596, 10.3055, 10.3644, 10.1697],\n",
       "        [10.4827, 10.6311, 10.7365, 10.7154],\n",
       "        [10.0461, 10.7705, 10.3015, 10.6800]], device='mps:0')"
      ]
     },
     "execution_count": 28,
     "metadata": {},
     "output_type": "execute_result"
    }
   ],
   "source": [
    "tns + 5"
   ]
  },
  {
   "cell_type": "code",
   "execution_count": null,
   "id": "fb5c3f7a-b69b-4393-962d-1582a818bcd8",
   "metadata": {},
   "outputs": [
    {
     "data": {
      "text/plain": [
       "tensor([[5.8596, 5.3055, 5.3644, 5.1697],\n",
       "        [5.4827, 5.6311, 5.7365, 5.7154],\n",
       "        [5.0461, 5.7705, 5.3015, 5.6800]], device='mps:0')"
      ]
     },
     "execution_count": 29,
     "metadata": {},
     "output_type": "execute_result"
    }
   ],
   "source": [
    "tns"
   ]
  },
  {
   "cell_type": "code",
   "execution_count": null,
   "id": "669fd67d-363f-4820-b677-90856e29d252",
   "metadata": {},
   "outputs": [
    {
     "data": {
      "text/plain": [
       "(tensor([1., 1., 1., 1., 1.]), array([1., 1., 1., 1., 1.], dtype=float32))"
      ]
     },
     "execution_count": 30,
     "metadata": {},
     "output_type": "execute_result"
    }
   ],
   "source": [
    "t = torch.ones(5)\n",
    "n = t.numpy()\n",
    "t, n"
   ]
  },
  {
   "cell_type": "code",
   "execution_count": null,
   "id": "05a172b7-e888-4a27-9117-4762521b2c61",
   "metadata": {},
   "outputs": [
    {
     "data": {
      "text/plain": [
       "tensor([6., 6., 6., 6., 6.])"
      ]
     },
     "execution_count": 31,
     "metadata": {},
     "output_type": "execute_result"
    }
   ],
   "source": [
    "t.add_(5)"
   ]
  }
 ],
 "metadata": {
  "language_info": {
   "codemirror_mode": {
    "name": "ipython",
    "version": 3
   },
   "file_extension": ".py",
   "mimetype": "text/x-python",
   "name": "python",
   "nbconvert_exporter": "python",
   "pygments_lexer": "ipython3",
   "version": 3
  }
 },
 "nbformat": 4,
 "nbformat_minor": 2
}
