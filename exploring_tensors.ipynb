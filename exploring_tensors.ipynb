{
 "cells": [
  {
   "cell_type": "code",
   "execution_count": null,
   "id": "f83f1889-726c-471d-9906-0ebdae8807ff",
   "metadata": {},
   "outputs": [],
   "source": [
    "import torch\n",
    "import numpy as np"
   ]
  },
  {
   "cell_type": "code",
   "execution_count": null,
   "id": "f9e9efb1-bfb0-4649-af26-d8ca86bfbbe1",
   "metadata": {},
   "outputs": [
    {
     "data": {
      "text/plain": [
       "tensor([[1, 2],\n",
       "        [3, 4]])"
      ]
     },
     "execution_count": 2,
     "metadata": {},
     "output_type": "execute_result"
    }
   ],
   "source": [
    "data = [[1, 2], [3, 4]]\n",
    "torch.tensor(data) #Creating tensor"
   ]
  },
  {
   "cell_type": "code",
   "execution_count": null,
   "id": "3384f3b0-5444-4c9c-9389-cdf98f12b71d",
   "metadata": {},
   "outputs": [
    {
     "data": {
      "text/plain": [
       "tensor([[1, 2],\n",
       "        [3, 4]])"
      ]
     },
     "execution_count": 3,
     "metadata": {},
     "output_type": "execute_result"
    }
   ],
   "source": [
    "np_array = np.array(data)\n",
    "x_np = torch.from_numpy(np_array) #Creating tensor from numpy array\n",
    "x_np"
   ]
  },
  {
   "cell_type": "code",
   "execution_count": null,
   "id": "6248ed8f-de3f-411a-82ef-6d6caedfbc28",
   "metadata": {},
   "outputs": [
    {
     "data": {
      "text/plain": [
       "tensor([[1, 1],\n",
       "        [1, 1]])"
      ]
     },
     "execution_count": 4,
     "metadata": {},
     "output_type": "execute_result"
    }
   ],
   "source": [
    "x_ones = torch.ones_like(x_np) # Creating similar tensors\n",
    "x_ones"
   ]
  },
  {
   "cell_type": "code",
   "execution_count": null,
   "id": "37c7cdcb-4e43-4779-ab36-b048dd5e49ed",
   "metadata": {},
   "outputs": [
    {
     "data": {
      "text/plain": [
       "tensor([[0.8202, 0.3266],\n",
       "        [0.1097, 0.2273]])"
      ]
     },
     "execution_count": 5,
     "metadata": {},
     "output_type": "execute_result"
    }
   ],
   "source": [
    "x_rand = torch.rand_like(x_np, dtype=torch.float) # Overrides datatype of x_data, [0,1]\n",
    "x_rand"
   ]
  },
  {
   "cell_type": "code",
   "execution_count": null,
   "id": "4ea546b0-ca73-46da-b791-1adbe5c016c4",
   "metadata": {},
   "outputs": [
    {
     "data": {
      "text/plain": [
       "tensor([[0.2641, 0.4552, 0.9951],\n",
       "        [0.6306, 0.5674, 0.2450]])"
      ]
     },
     "execution_count": 6,
     "metadata": {},
     "output_type": "execute_result"
    }
   ],
   "source": [
    "shape = (2, 3,) # a tuple of dimensions\n",
    "rand_tensor = torch.rand(shape)\n",
    "rand_tensor"
   ]
  },
  {
   "cell_type": "code",
   "execution_count": null,
   "id": "c30efc35-6f34-4bea-9755-9834328b7e71",
   "metadata": {},
   "outputs": [
    {
     "data": {
      "text/plain": [
       "torch.Size([3, 4])"
      ]
     },
     "execution_count": 7,
     "metadata": {},
     "output_type": "execute_result"
    }
   ],
   "source": [
    "tns = torch.rand(3, 4)\n",
    "tns.shape"
   ]
  },
  {
   "cell_type": "code",
   "execution_count": null,
   "id": "2066cd17-bb26-4e9f-85d0-4c8a3fd6495c",
   "metadata": {},
   "outputs": [
    {
     "data": {
      "text/plain": [
       "torch.float32"
      ]
     },
     "execution_count": 8,
     "metadata": {},
     "output_type": "execute_result"
    }
   ],
   "source": [
    "tns.dtype"
   ]
  },
  {
   "cell_type": "code",
   "execution_count": null,
   "id": "3aa2d14f-ab8c-4217-9f96-fc5d3e7a5d76",
   "metadata": {},
   "outputs": [
    {
     "data": {
      "text/plain": [
       "device(type='cpu')"
      ]
     },
     "execution_count": 9,
     "metadata": {},
     "output_type": "execute_result"
    }
   ],
   "source": [
    "tns.device"
   ]
  },
  {
   "cell_type": "code",
   "execution_count": null,
   "id": "1f794152-d75a-443e-892e-f9f583cec679",
   "metadata": {},
   "outputs": [
    {
     "data": {
      "text/plain": [
       "tensor([[0.7319, 0.3989, 0.5575, 0.1720],\n",
       "        [0.1919, 0.8481, 0.9034, 0.3079],\n",
       "        [0.7538, 0.9811, 0.0521, 0.5025]], device='mps:0')"
      ]
     },
     "execution_count": 10,
     "metadata": {},
     "output_type": "execute_result"
    }
   ],
   "source": [
    "tns.to(\"mps\")"
   ]
  },
  {
   "cell_type": "code",
   "execution_count": null,
   "id": "c11397aa-83a6-4693-b1be-945eab31fe96",
   "metadata": {},
   "outputs": [],
   "source": [
    "device = torch.accelerator.current_accelerator().type if torch.accelerator.is_available() else \"cpu\""
   ]
  },
  {
   "cell_type": "code",
   "execution_count": null,
   "id": "055c1e1c-e86d-4782-af8f-735a52cece40",
   "metadata": {},
   "outputs": [
    {
     "data": {
      "text/plain": [
       "device(type='cpu')"
      ]
     },
     "execution_count": 12,
     "metadata": {},
     "output_type": "execute_result"
    }
   ],
   "source": [
    "tns.to(device)\n",
    "tns.device"
   ]
  },
  {
   "cell_type": "code",
   "execution_count": null,
   "id": "d0eff0b8-7c85-421e-ab3c-602ea3cbb058",
   "metadata": {},
   "outputs": [
    {
     "data": {
      "text/plain": [
       "tensor([[0.9274, 0.3883, 0.7099, 0.5540],\n",
       "        [0.4095, 0.2667, 0.9046, 0.7817],\n",
       "        [0.9408, 0.5752, 0.3026, 0.2697],\n",
       "        [0.1482, 0.5563, 0.7183, 0.1569]])"
      ]
     },
     "execution_count": 13,
     "metadata": {},
     "output_type": "execute_result"
    }
   ],
   "source": [
    "tns2 = torch.rand(4,4)\n",
    "tns2"
   ]
  },
  {
   "cell_type": "code",
   "execution_count": null,
   "id": "12e923e7-c490-4e61-b938-437bb3299a68",
   "metadata": {},
   "outputs": [
    {
     "data": {
      "text/plain": [
       "tensor([0.9274, 0.4095, 0.9408, 0.1482])"
      ]
     },
     "execution_count": 14,
     "metadata": {},
     "output_type": "execute_result"
    }
   ],
   "source": [
    "tns2[:, 0] # First column"
   ]
  },
  {
   "cell_type": "code",
   "execution_count": null,
   "id": "ececcdca-c441-4201-9fcc-d42e99858737",
   "metadata": {},
   "outputs": [
    {
     "data": {
      "text/plain": [
       "tensor([0.9274, 0.3883, 0.7099, 0.5540])"
      ]
     },
     "execution_count": 15,
     "metadata": {},
     "output_type": "execute_result"
    }
   ],
   "source": [
    "tns2[0] # First row "
   ]
  },
  {
   "cell_type": "code",
   "execution_count": null,
   "id": "d0d7efca-e781-438e-b7fb-9d584b987107",
   "metadata": {},
   "outputs": [
    {
     "data": {
      "text/plain": [
       "'\\n... means “expand to however many : slices are needed to cover all the remaining dimensions.”\\nx = torch.arange(2*3*4).reshape(2, 3, 4)\\nx[..., -1] → shape [2, 3]\\nIt selects the last element in the last dimension (size 4 → index -1).\\nEquivalent to x[:, :, -1].\\n'"
      ]
     },
     "execution_count": 16,
     "metadata": {},
     "output_type": "execute_result"
    }
   ],
   "source": [
    "tns2[..., -1] # Last column\n",
    "'''\n",
    "... means “expand to however many : slices are needed to cover all the remaining dimensions.”\n",
    "x = torch.arange(2*3*4).reshape(2, 3, 4)\n",
    "x[..., -1] → shape [2, 3]\n",
    "It selects the last element in the last dimension (size 4 → index -1).\n",
    "Equivalent to x[:, :, -1].\n",
    "'''"
   ]
  },
  {
   "cell_type": "code",
   "execution_count": null,
   "id": "6c3af58c-fcf4-4e84-933f-ae5e93a0e229",
   "metadata": {},
   "outputs": [
    {
     "data": {
      "text/plain": [
       "torch.Size([2, 3])"
      ]
     },
     "execution_count": 17,
     "metadata": {},
     "output_type": "execute_result"
    }
   ],
   "source": [
    "x = torch.arange(2*3*4).reshape(2, 3, 4)\n",
    "x[:,:,-1].shape"
   ]
  },
  {
   "cell_type": "code",
   "execution_count": null,
   "id": "20f963c0-92ec-453f-8fc8-33384a388ed7",
   "metadata": {},
   "outputs": [
    {
     "data": {
      "text/plain": [
       "tensor([[ 8,  9, 10, 11],\n",
       "        [20, 21, 22, 23]])"
      ]
     },
     "execution_count": 18,
     "metadata": {},
     "output_type": "execute_result"
    }
   ],
   "source": [
    "x[:, -1]"
   ]
  },
  {
   "cell_type": "code",
   "execution_count": null,
   "id": "50b033df-0286-4291-83ce-7e8b50390796",
   "metadata": {},
   "outputs": [
    {
     "data": {
      "text/plain": [
       "tensor([[ 3,  7, 11],\n",
       "        [15, 19, 23]])"
      ]
     },
     "execution_count": 19,
     "metadata": {},
     "output_type": "execute_result"
    }
   ],
   "source": [
    "x[..., -1]"
   ]
  },
  {
   "cell_type": "code",
   "execution_count": null,
   "id": "497c1b0c-ee24-40f7-a632-1598421f1eaf",
   "metadata": {},
   "outputs": [
    {
     "data": {
      "text/plain": [
       "torch.Size([3, 8])"
      ]
     },
     "execution_count": 20,
     "metadata": {},
     "output_type": "execute_result"
    }
   ],
   "source": [
    "tns3 = torch.cat([tns, tns], dim=1) # Join horizontally\n",
    "tns3.shape"
   ]
  },
  {
   "cell_type": "code",
   "execution_count": null,
   "id": "a512fda6-af27-4943-99cb-aa100a8b9e78",
   "metadata": {},
   "outputs": [
    {
     "data": {
      "text/plain": [
       "torch.Size([9, 4])"
      ]
     },
     "execution_count": 21,
     "metadata": {},
     "output_type": "execute_result"
    }
   ],
   "source": [
    "tns4 = torch.cat([tns, tns, tns], dim=0) # Join vertically\n",
    "tns4.shape"
   ]
  },
  {
   "cell_type": "code",
   "execution_count": null,
   "id": "b52fbcea-5b1e-4381-81f1-86e70d50e428",
   "metadata": {},
   "outputs": [
    {
     "data": {
      "text/plain": [
       "tensor([[1.0353, 1.0355, 1.0586],\n",
       "        [1.0355, 1.6672, 1.1785],\n",
       "        [1.0586, 1.1785, 1.7859]])"
      ]
     },
     "execution_count": 22,
     "metadata": {},
     "output_type": "execute_result"
    }
   ],
   "source": [
    "y = tns @ tns.T\n",
    "y"
   ]
  },
  {
   "cell_type": "code",
   "execution_count": null,
   "id": "b612d217-c3fa-40be-a1f7-e92a7bfdad08",
   "metadata": {},
   "outputs": [
    {
     "data": {
      "text/plain": [
       "tensor([[1.0353, 1.0355, 1.0586],\n",
       "        [1.0355, 1.6672, 1.1785],\n",
       "        [1.0586, 1.1785, 1.7859]])"
      ]
     },
     "execution_count": 23,
     "metadata": {},
     "output_type": "execute_result"
    }
   ],
   "source": [
    "y2 = tns.matmul(tns.T)\n",
    "y2"
   ]
  },
  {
   "cell_type": "code",
   "execution_count": null,
   "id": "e08c13da-0683-4ceb-995e-18f08715c7a7",
   "metadata": {},
   "outputs": [
    {
     "data": {
      "text/plain": [
       "tensor(6.4012)"
      ]
     },
     "execution_count": 24,
     "metadata": {},
     "output_type": "execute_result"
    }
   ],
   "source": [
    "tns.sum()"
   ]
  },
  {
   "cell_type": "code",
   "execution_count": null,
   "id": "00f3168e-296a-4f70-a8fb-022e7fe6102b",
   "metadata": {},
   "outputs": [
    {
     "data": {
      "text/plain": [
       "tensor([[0.7319, 0.3989, 0.5575, 0.1720],\n",
       "        [0.1919, 0.8481, 0.9034, 0.3079],\n",
       "        [0.7538, 0.9811, 0.0521, 0.5025]])"
      ]
     },
     "execution_count": 25,
     "metadata": {},
     "output_type": "execute_result"
    }
   ],
   "source": [
    "tns"
   ]
  },
  {
   "cell_type": "code",
   "execution_count": null,
   "id": "e1ea13a6-8a39-4f2d-b5a4-e59d83e05223",
   "metadata": {},
   "outputs": [
    {
     "data": {
      "text/plain": [
       "tensor([[5.7319, 5.3989, 5.5575, 5.1720],\n",
       "        [5.1919, 5.8481, 5.9034, 5.3079],\n",
       "        [5.7538, 5.9811, 5.0521, 5.5025]])"
      ]
     },
     "execution_count": 26,
     "metadata": {},
     "output_type": "execute_result"
    }
   ],
   "source": [
    "tns.add_(5)"
   ]
  },
  {
   "cell_type": "code",
   "execution_count": null,
   "id": "8e3be768-a983-441e-9498-957fa89a0167",
   "metadata": {},
   "outputs": [
    {
     "data": {
      "text/plain": [
       "tensor([[5.7319, 5.3989, 5.5575, 5.1720],\n",
       "        [5.1919, 5.8481, 5.9034, 5.3079],\n",
       "        [5.7538, 5.9811, 5.0521, 5.5025]])"
      ]
     },
     "execution_count": 27,
     "metadata": {},
     "output_type": "execute_result"
    }
   ],
   "source": [
    "tns"
   ]
  },
  {
   "cell_type": "code",
   "execution_count": null,
   "id": "1750db16-9e10-4a19-8ba1-9e3100b1b231",
   "metadata": {},
   "outputs": [
    {
     "data": {
      "text/plain": [
       "tensor([[10.7319, 10.3989, 10.5575, 10.1720],\n",
       "        [10.1919, 10.8481, 10.9034, 10.3079],\n",
       "        [10.7538, 10.9811, 10.0521, 10.5025]])"
      ]
     },
     "execution_count": 28,
     "metadata": {},
     "output_type": "execute_result"
    }
   ],
   "source": [
    "tns + 5"
   ]
  },
  {
   "cell_type": "code",
   "execution_count": null,
   "id": "8aea75ae-b7f2-4b45-a5c8-4d75c6e16b72",
   "metadata": {},
   "outputs": [
    {
     "data": {
      "text/plain": [
       "tensor([[5.7319, 5.3989, 5.5575, 5.1720],\n",
       "        [5.1919, 5.8481, 5.9034, 5.3079],\n",
       "        [5.7538, 5.9811, 5.0521, 5.5025]])"
      ]
     },
     "execution_count": 29,
     "metadata": {},
     "output_type": "execute_result"
    }
   ],
   "source": [
    "tns"
   ]
  },
  {
   "cell_type": "code",
   "execution_count": null,
   "id": "5250f42c-f207-4239-9501-71ff441d8aa2",
   "metadata": {},
   "outputs": [
    {
     "data": {
      "text/plain": [
       "(tensor([1., 1., 1., 1., 1.]), array([1., 1., 1., 1., 1.], dtype=float32))"
      ]
     },
     "execution_count": 30,
     "metadata": {},
     "output_type": "execute_result"
    }
   ],
   "source": [
    "t = torch.ones(5)\n",
    "n = t.numpy()\n",
    "t, n"
   ]
  },
  {
   "cell_type": "code",
   "execution_count": null,
   "id": "873194c2-013c-4010-851d-89c252d0434a",
   "metadata": {},
   "outputs": [
    {
     "data": {
      "text/plain": [
       "tensor([6., 6., 6., 6., 6.])"
      ]
     },
     "execution_count": 31,
     "metadata": {},
     "output_type": "execute_result"
    }
   ],
   "source": [
    "t.add_(5)"
   ]
  },
  {
   "cell_type": "code",
   "execution_count": null,
   "id": "e671b42e-10cf-4058-b586-53e572ed15d7",
   "metadata": {},
   "outputs": [
    {
     "data": {
      "text/plain": [
       "array([6., 6., 6., 6., 6.], dtype=float32)"
      ]
     },
     "execution_count": 32,
     "metadata": {},
     "output_type": "execute_result"
    }
   ],
   "source": [
    "n"
   ]
  }
 ],
 "metadata": {
  "language_info": {
   "codemirror_mode": {
    "name": "ipython",
    "version": 3
   },
   "file_extension": ".py",
   "mimetype": "text/x-python",
   "name": "python",
   "nbconvert_exporter": "python",
   "pygments_lexer": "ipython3",
   "version": 3
  }
 },
 "nbformat": 4,
 "nbformat_minor": 2
}
